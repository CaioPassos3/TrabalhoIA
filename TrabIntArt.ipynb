{
  "nbformat": 4,
  "nbformat_minor": 0,
  "metadata": {
    "colab": {
      "provenance": [],
      "include_colab_link": true
    },
    "kernelspec": {
      "name": "python3",
      "display_name": "Python 3"
    },
    "language_info": {
      "name": "python"
    }
  },
  "cells": [
    {
      "cell_type": "markdown",
      "metadata": {
        "id": "view-in-github",
        "colab_type": "text"
      },
      "source": [
        "<a href=\"https://colab.research.google.com/github/CaioPassos3/TrabalhoIA/blob/main/TrabIntArt.ipynb\" target=\"_parent\"><img src=\"https://colab.research.google.com/assets/colab-badge.svg\" alt=\"Open In Colab\"/></a>"
      ]
    },
    {
      "cell_type": "code",
      "execution_count": null,
      "metadata": {
        "id": "NHUYavwdrHVf"
      },
      "outputs": [],
      "source": [
        "import pandas as pd\n",
        "import numpy as np\n",
        "import matplotlib.pyplot as plt\n",
        "from sklearn.model_selection import train_test_split"
      ]
    },
    {
      "cell_type": "code",
      "source": [
        "# Carregue o arquivo CSV\n",
        "file_path = '/content/sample_data/Housing.csv'\n",
        "data = pd.read_csv(file_path)"
      ],
      "metadata": {
        "id": "dgwESgx0sNNu"
      },
      "execution_count": null,
      "outputs": []
    },
    {
      "cell_type": "code",
      "source": [
        "# Verificar as primeiras linhas do dataset\n",
        "print(data.head())"
      ],
      "metadata": {
        "colab": {
          "base_uri": "https://localhost:8080/"
        },
        "id": "BN_hSBUPscBt",
        "outputId": "1781370d-4081-429e-8a6e-9ec650f617b1"
      },
      "execution_count": null,
      "outputs": [
        {
          "output_type": "stream",
          "name": "stdout",
          "text": [
            "      price  area  bedrooms  bathrooms  stories mainroad guestroom basement  \\\n",
            "0  13300000  7420         4          2        3      yes        no       no   \n",
            "1  12250000  8960         4          4        4      yes        no       no   \n",
            "2  12250000  9960         3          2        2      yes        no      yes   \n",
            "3  12215000  7500         4          2        2      yes        no      yes   \n",
            "4  11410000  7420         4          1        2      yes       yes      yes   \n",
            "\n",
            "  hotwaterheating airconditioning  parking prefarea furnishingstatus  \n",
            "0              no             yes        2      yes        furnished  \n",
            "1              no             yes        3       no        furnished  \n",
            "2              no              no        2      yes   semi-furnished  \n",
            "3              no             yes        3      yes        furnished  \n",
            "4              no             yes        2       no        furnished  \n"
          ]
        }
      ]
    },
    {
      "cell_type": "code",
      "source": [
        "# Identificar as variáveis categóricas\n",
        "categorical_features = data.select_dtypes(include=['object']).columns\n",
        "print(categorical_features)\n"
      ],
      "metadata": {
        "colab": {
          "base_uri": "https://localhost:8080/"
        },
        "id": "bMIeuEWWseR8",
        "outputId": "c5c4126b-3d43-43e1-83ed-261051f87f22"
      },
      "execution_count": null,
      "outputs": [
        {
          "output_type": "stream",
          "name": "stdout",
          "text": [
            "Index(['mainroad', 'guestroom', 'basement', 'hotwaterheating',\n",
            "       'airconditioning', 'prefarea', 'furnishingstatus'],\n",
            "      dtype='object')\n"
          ]
        }
      ]
    },
    {
      "cell_type": "code",
      "source": [
        "# Identificar as variáveis categóricas\n",
        "categorical_features = data.select_dtypes(include=['object']).columns\n",
        "print(categorical_features)"
      ],
      "metadata": {
        "colab": {
          "base_uri": "https://localhost:8080/"
        },
        "id": "n80nbBLgslvz",
        "outputId": "ac99518c-b9e9-4337-ffc3-1971425ddfec"
      },
      "execution_count": null,
      "outputs": [
        {
          "output_type": "stream",
          "name": "stdout",
          "text": [
            "Index(['mainroad', 'guestroom', 'basement', 'hotwaterheating',\n",
            "       'airconditioning', 'prefarea', 'furnishingstatus'],\n",
            "      dtype='object')\n"
          ]
        }
      ]
    },
    {
      "cell_type": "code",
      "source": [
        "# Remover as variáveis categóricas originais\n",
        "data = data.drop(categorical_features, axis=1)"
      ],
      "metadata": {
        "id": "M0EJTjBYsniC"
      },
      "execution_count": null,
      "outputs": []
    },
    {
      "cell_type": "code",
      "source": [
        "# Aplicar One-Hot Encoding\n",
        "data = pd.get_dummies(data, columns=data.select_dtypes(include=['object']).columns, drop_first=True)\n",
        "print(data.head())"
      ],
      "metadata": {
        "colab": {
          "base_uri": "https://localhost:8080/"
        },
        "id": "I3QRn0m3spQc",
        "outputId": "b6ee2683-d7f5-4c01-c02b-549d4cdf9170"
      },
      "execution_count": null,
      "outputs": [
        {
          "output_type": "stream",
          "name": "stdout",
          "text": [
            "      price  area  bedrooms  bathrooms  stories  parking\n",
            "0  13300000  7420         4          2        3        2\n",
            "1  12250000  8960         4          4        4        3\n",
            "2  12250000  9960         3          2        2        2\n",
            "3  12215000  7500         4          2        2        3\n",
            "4  11410000  7420         4          1        2        2\n"
          ]
        }
      ]
    },
    {
      "cell_type": "code",
      "source": [
        "# Separar variáveis preditivas e alvo\n",
        "X = data.drop('price', axis=1)\n",
        "y = data['price']\n"
      ],
      "metadata": {
        "id": "L0DnRMBwsqDU"
      },
      "execution_count": null,
      "outputs": []
    },
    {
      "cell_type": "code",
      "source": [
        "# Separar em treino e teste\n",
        "X_train, X_test, y_train, y_test = train_test_split(X, y, test_size=0.2, random_state=42)\n"
      ],
      "metadata": {
        "id": "wT3AR_JcsrtV"
      },
      "execution_count": null,
      "outputs": []
    },
    {
      "cell_type": "code",
      "source": [
        "print(f'Tamanho do conjunto de treino: {X_train.shape}')\n",
        "print(f'Tamanho do conjunto de teste: {X_test.shape}')"
      ],
      "metadata": {
        "colab": {
          "base_uri": "https://localhost:8080/"
        },
        "id": "iZvhgXINstcE",
        "outputId": "52ed61c2-173b-4fe9-d7d7-a1cf6d68fe70"
      },
      "execution_count": null,
      "outputs": [
        {
          "output_type": "stream",
          "name": "stdout",
          "text": [
            "Tamanho do conjunto de treino: (436, 5)\n",
            "Tamanho do conjunto de teste: (109, 5)\n"
          ]
        }
      ]
    },
    {
      "cell_type": "code",
      "source": [
        "# Implemente a regressão linear ao conjunto de dados usando o método dos mínimos quadrados (OLS)\n",
        "def ols(X, y):\n",
        "    X_T = X.T\n",
        "    X_TX = np.dot(X_T, X)\n",
        "    X_Ty = np.dot(X_T, y)\n",
        "    beta = np.linalg.inv(X_TX).dot(X_Ty)\n",
        "    return beta\n",
        "\n",
        "    beta_ols = ols(X_train, y_train)\n",
        "y_pred_ols = np.dot(X_test, beta_ols)"
      ],
      "metadata": {
        "id": "RlaYdAnisxa9"
      },
      "execution_count": null,
      "outputs": []
    },
    {
      "cell_type": "code",
      "source": [
        "# Avalie o desempenho do modelo usando as métricas MSE e R²\n",
        "def mse(y_true, y_pred):\n",
        "    return np.mean((y_true - y_pred) ** 2)\n",
        "\n",
        "def r2(y_true, y_pred):\n",
        "    return 1 - (np.sum((y_true - y_pred) * 2) / np.sum((y_true - np.mean(y_true)) * 2))\n",
        "\n",
        "mse_ols = mse(y_test, y_pred_ols)\n",
        "r2_ols = r2(y_test, y_pred_ols)\n",
        "print(f'MSE (OLS): {mse_ols:.2f}')\n",
        "print(f'R² (OLS): {r2_ols:.2f}')"
      ],
      "metadata": {
        "colab": {
          "base_uri": "https://localhost:8080/"
        },
        "id": "9IqISOf_s1ax",
        "outputId": "d64e7c00-bb24-486d-8e71-1cd201ced9ed"
      },
      "execution_count": null,
      "outputs": [
        {
          "output_type": "stream",
          "name": "stdout",
          "text": [
            "MSE (OLS): 2288011803457.03\n",
            "R² (OLS): -1646553360794443.75\n"
          ]
        }
      ]
    },
    {
      "cell_type": "code",
      "source": [
        "# Implemente a regressão linear ao conjunto de dados usando o método do gradiente descendente (GD)\n",
        "def gradient_descent(X, y, learning_rate, n_iters):\n",
        "    n_samples, n_features = X.shape\n",
        "    weights = np.zeros(n_features)\n",
        "    bias = 0\n",
        "    for _ in range(n_iters):\n",
        "        y_pred = np.dot(X, weights) + bias\n",
        "        dw = (1 / n_samples) * np.dot(X.T, (y_pred - y))\n",
        "        db = (1 / n_samples) * np.sum(y_pred - y)\n",
        "        weights -= learning_rate * dw\n",
        "        bias -= learning_rate * db\n",
        "    return weights, bias\n",
        "\n",
        "learning_rate = 0.01\n",
        "n_iters = 1000\n",
        "weights_gd, bias_gd = gradient_descent(X_train, y_train, learning_rate, n_iters)\n",
        "y_pred_gd = np.dot(X_test, weights_gd) + bias_gd"
      ],
      "metadata": {
        "colab": {
          "base_uri": "https://localhost:8080/"
        },
        "id": "QRvDt-ySs3ez",
        "outputId": "2dc53621-6bb8-4f34-ca52-981ab5da0ef0"
      },
      "execution_count": null,
      "outputs": [
        {
          "output_type": "stream",
          "name": "stderr",
          "text": [
            "<ipython-input-18-60bc2b8727cc>:10: RuntimeWarning: invalid value encountered in subtract\n",
            "  weights -= learning_rate * dw\n"
          ]
        }
      ]
    },
    {
      "cell_type": "code",
      "source": [
        "# Avalie o desempenho do modelo usando as métricas MSE e R²\n",
        "mse_gd = mse(y_test, y_pred_gd)\n",
        "r2_gd = r2(y_test, y_pred_gd)\n",
        "print(f'MSE (GD): {mse_gd:.2f}')\n",
        "print(f'R² (GD): {r2_gd:.2f}')"
      ],
      "metadata": {
        "colab": {
          "base_uri": "https://localhost:8080/"
        },
        "id": "RFic9kYytDmV",
        "outputId": "118c6e10-6d09-4636-f3e3-a75a6c744d42"
      },
      "execution_count": null,
      "outputs": [
        {
          "output_type": "stream",
          "name": "stdout",
          "text": [
            "MSE (GD): nan\n",
            "R² (GD): 1.00\n"
          ]
        }
      ]
    },
    {
      "cell_type": "code",
      "source": [
        "# Normalize as variáveis preditivas usando o método min-max e a variável alvo usando o método z-score\n",
        "def min_max_scaler(X):\n",
        "    return (X - X.min()) / (X.max() - X.min())\n",
        "\n",
        "def z_score_scaler(y):\n",
        "    return (y - y.mean()) / y.std()\n",
        "\n",
        "X_train_scaled = min_max_scaler(X_train)\n",
        "y_train_scaled = z_score_scaler(y_train)\n",
        "X_test_scaled = min_max_scaler(X_test)\n"
      ],
      "metadata": {
        "id": "fR4PTHC0tGOs"
      },
      "execution_count": null,
      "outputs": []
    },
    {
      "cell_type": "code",
      "source": [
        "# Repita o procedimento do item A com os dados normalizados\n",
        "weights_gd_scaled, bias_gd_scaled = gradient_descent(X_train_scaled, y_train_scaled, learning_rate, n_iters)\n",
        "y_pred_gd_scaled = np.dot(X_test_scaled, weights_gd_scaled) + bias_gd_scaled"
      ],
      "metadata": {
        "id": "Y6lVsaRktJCh"
      },
      "execution_count": null,
      "outputs": []
    },
    {
      "cell_type": "code",
      "source": [
        "# Avalie o desempenho do modelo usando as métricas MSE e R²\n",
        "mse_gd_scaled = mse(y_test, y_pred_gd_scaled)\n",
        "r2_gd_scaled = r2(y_test, y_pred_gd_scaled)\n",
        "print(f'M')"
      ],
      "metadata": {
        "id": "oM0d3g6ttLmN",
        "outputId": "6b64b8f2-7c91-4a38-9047-ebead3d5be87",
        "colab": {
          "base_uri": "https://localhost:8080/"
        }
      },
      "execution_count": null,
      "outputs": [
        {
          "output_type": "stream",
          "name": "stdout",
          "text": [
            "M\n"
          ]
        }
      ]
    }
  ]
}